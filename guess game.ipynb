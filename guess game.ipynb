{
 "cells": [
  {
   "cell_type": "code",
   "execution_count": null,
   "id": "0ca4da48",
   "metadata": {},
   "outputs": [],
   "source": [
    "mylist=['','O','']\n",
    "from random import shuffle\n",
    "def shuffle_list(mylist):\n",
    "    shuffle(mylist)\n",
    "    return mylist\n",
    "\n",
    "def player_guess():\n",
    "    guess=\"\"\n",
    "    while guess not in ['0','1','2']:\n",
    "        guess=input(\"enter a number : 0,1 or 2:\")\n",
    "    return int(guess)\n",
    "\n",
    "def guess_check(mylist,guess):\n",
    "    if mylist[guess]=='O':\n",
    "        print(\"correct!\")\n",
    "    else:\n",
    "        print(\"wrong!, better luck next time\")\n",
    "    print(mylist)\n",
    "\n",
    "mylist=['','O','']\n",
    "mixed_list=shuffle_list(mylist)\n",
    "guess=player_guess()\n",
    "guess_check(mixed_list,guess)"
   ]
  }
 ],
 "metadata": {
  "kernelspec": {
   "display_name": "Python 3 (ipykernel)",
   "language": "python",
   "name": "python3"
  },
  "language_info": {
   "codemirror_mode": {
    "name": "ipython",
    "version": 3
   },
   "file_extension": ".py",
   "mimetype": "text/x-python",
   "name": "python",
   "nbconvert_exporter": "python",
   "pygments_lexer": "ipython3",
   "version": "3.11.5"
  }
 },
 "nbformat": 4,
 "nbformat_minor": 5
}
